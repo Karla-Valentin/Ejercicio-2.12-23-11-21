{
  "nbformat": 4,
  "nbformat_minor": 0,
  "metadata": {
    "colab": {
      "name": "Ejercicio en clase 23-11-21.ipynb",
      "provenance": [],
      "authorship_tag": "ABX9TyMVqHYVsqi9lpuCnqElsmsn",
      "include_colab_link": true
    },
    "kernelspec": {
      "name": "python3",
      "display_name": "Python 3"
    },
    "language_info": {
      "name": "python"
    }
  },
  "cells": [
    {
      "cell_type": "markdown",
      "metadata": {
        "id": "view-in-github",
        "colab_type": "text"
      },
      "source": [
        "<a href=\"https://colab.research.google.com/github/Karla-Valentin/Ejercicio-2.12-23-11-21/blob/main/Ejercicio_en_clase_23_11_21.ipynb\" target=\"_parent\"><img src=\"https://colab.research.google.com/assets/colab-badge.svg\" alt=\"Open In Colab\"/></a>"
      ]
    },
    {
      "cell_type": "code",
      "metadata": {
        "colab": {
          "base_uri": "https://localhost:8080/"
        },
        "id": "DV8oOAQmM6mJ",
        "outputId": "e45ed2bb-c8d8-4a92-c547-b2c63faed312"
      },
      "source": [
        "#EJEMPLO 2.12\n",
        "A= int(input(\"Escribe un numero entero:\"))\n",
        "B= int(input(\"Escribe otro numero entero:\"))\n",
        "C= int(input(\"Escribe un numero entero diferente:\"))\n",
        "\n",
        "if A>B: \n",
        "    if A>C:\n",
        "        if B>C:\n",
        "            print(f\"Los números de mayor a menor son: {A}, {B}, {C}\")\n",
        "        else:\n",
        "            print(f\"Los números de mayor a menor son: {A}, {C}, {B}\")\n",
        "    else:\n",
        "        print(f\"Los números de mayor menor son: {C}, {A}, {B}\")\n",
        "else:\n",
        "    if B>C:\n",
        "        if A>C:\n",
        "            print(f\" Los números de mayor a menor son: {B}, {A}, {C}\")\n",
        "        else:\n",
        "            print(f\"Los números de mayor a menor son: {B}, {C}, {A}\")\n",
        "    else:\n",
        "        print(f\" Los números de mayor a menor son: {C}, {B}, {A}\")\n",
        "\n"
      ],
      "execution_count": 1,
      "outputs": [
        {
          "output_type": "stream",
          "name": "stdout",
          "text": [
            "Escribe un numero entero:12\n",
            "Escribe otro numero entero:199\n",
            "Escribe un numero entero diferente:837\n",
            " Los números de mayor a menor son: 837, 199, 12\n"
          ]
        }
      ]
    }
  ]
}